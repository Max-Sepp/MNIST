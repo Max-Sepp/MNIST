{
 "cells": [
  {
   "cell_type": "code",
   "execution_count": 1,
   "metadata": {},
   "outputs": [],
   "source": [
    "import torch\n",
    "import torch.nn as nn\n",
    "import torchvision\n",
    "import torchvision.transforms as transforms\n",
    "import matplotlib.pyplot as plt"
   ]
  },
  {
   "cell_type": "code",
   "execution_count": 2,
   "metadata": {},
   "outputs": [],
   "source": [
    "device = torch.device('cuda' if torch.cuda.is_available() else 'cpu')\n",
    "\n",
    "input_size = 784 # 28x28\n",
    "num_classes = 10\n",
    "batch_size = 100\n",
    "learning_rate = 0.001"
   ]
  },
  {
   "cell_type": "code",
   "execution_count": 3,
   "metadata": {},
   "outputs": [],
   "source": [
    "train_dataset = torchvision.datasets.MNIST(root='.', \n",
    "                                           train=True, \n",
    "                                           transform=transforms.ToTensor(),  \n",
    "                                           download=True)\n",
    "\n",
    "test_dataset = torchvision.datasets.MNIST(root='.', \n",
    "                                          train=False, \n",
    "                                          transform=transforms.ToTensor())\n",
    "\n",
    "# Data loader\n",
    "train_loader = torch.utils.data.DataLoader(dataset=train_dataset, \n",
    "                                           batch_size=batch_size, \n",
    "                                           shuffle=True)\n",
    "\n",
    "test_loader = torch.utils.data.DataLoader(dataset=test_dataset, \n",
    "                                          batch_size=batch_size, \n",
    "                                          shuffle=False)"
   ]
  },
  {
   "cell_type": "code",
   "execution_count": 4,
   "metadata": {},
   "outputs": [],
   "source": [
    "class FeedForwardNeuralNet(nn.Module):\n",
    "    def __init__(self, input_size, num_classes):\n",
    "        super(FeedForwardNeuralNet, self).__init__()\n",
    "        self.linear1 = nn.Linear(input_size, 600)\n",
    "        self.linear2 = nn.Linear(600, 600)\n",
    "        self.linear3 = nn.Linear(600, num_classes)\n",
    "        self.leakyRelu = nn.LeakyReLU()\n",
    "    \n",
    "    def forward(self, x):\n",
    "        x = self.linear1(x)\n",
    "        x = self.leakyRelu(x)\n",
    "        x = self.linear2(x)\n",
    "        x = self.leakyRelu(x)\n",
    "        x = self.linear3(x)\n",
    "        # no activation or softmax used \n",
    "        return x"
   ]
  },
  {
   "cell_type": "code",
   "execution_count": 5,
   "metadata": {},
   "outputs": [],
   "source": [
    "model = FeedForwardNeuralNet(input_size, num_classes).to(device)\n",
    "\n",
    "# Loss and optimizer\n",
    "criterion = nn.CrossEntropyLoss()\n",
    "optimizer = torch.optim.Adam(model.parameters(), lr=learning_rate) "
   ]
  },
  {
   "cell_type": "code",
   "execution_count": 12,
   "metadata": {},
   "outputs": [],
   "source": [
    "def test_model(model, test_loader):\n",
    "    # Test the model\n",
    "    # In test phase, we don't need to compute gradients (for memory efficiency)\n",
    "    with torch.no_grad():\n",
    "        n_correct = 0\n",
    "        n_samples = 0\n",
    "        for images, labels in test_loader:\n",
    "            images = images.reshape(-1, 28*28).to(device)\n",
    "            labels = labels.to(device)\n",
    "            results = model(images)\n",
    "            # max returns (value ,index)\n",
    "            _, predicted = torch.max(results.data, 1)\n",
    "            n_samples += labels.size(0)\n",
    "            n_correct += (predicted == labels).sum().item()\n",
    "\n",
    "        acc = n_correct / n_samples\n",
    "        print(f'Accuracy of the model: {acc * 100.0} %')\n",
    "        return acc"
   ]
  },
  {
   "cell_type": "code",
   "execution_count": 7,
   "metadata": {},
   "outputs": [],
   "source": [
    "def train_model(train_loader, num_epochs, model):\n",
    "    total_steps = len(train_loader)\n",
    "    for epoch in range(num_epochs):\n",
    "        for i, (images, labels) in enumerate(train_loader):\n",
    "            # flatten images\n",
    "            images = images.reshape(-1, 784).to(device)\n",
    "            labels = labels.to(device)\n",
    "\n",
    "            # forward pass\n",
    "            results = model(images)\n",
    "            loss = criterion(results, labels)\n",
    "\n",
    "            # backwards and optimise\n",
    "            optimizer.zero_grad()\n",
    "            loss.backward()\n",
    "            optimizer.step()\n",
    "            \n",
    "            if (i+1) % 200 == 0:\n",
    "                print(f'Epoch: {epoch+1} out of {num_epochs}, Step: {i+1} out of {total_steps}, Loss: {loss.item():.4f}')\n",
    "        test_model(model, test_loader)\n"
   ]
  },
  {
   "cell_type": "code",
   "execution_count": 8,
   "metadata": {},
   "outputs": [
    {
     "name": "stdout",
     "output_type": "stream",
     "text": [
      "Epoch: 1 out of 10, Step: 200 out of 600, Loss: 0.2062\n",
      "Epoch: 1 out of 10, Step: 400 out of 600, Loss: 0.1602\n",
      "Epoch: 1 out of 10, Step: 600 out of 600, Loss: 0.0794\n",
      "Epoch: 2 out of 10, Step: 200 out of 600, Loss: 0.0620\n",
      "Epoch: 2 out of 10, Step: 400 out of 600, Loss: 0.0803\n",
      "Epoch: 2 out of 10, Step: 600 out of 600, Loss: 0.1788\n",
      "Epoch: 3 out of 10, Step: 200 out of 600, Loss: 0.0542\n",
      "Epoch: 3 out of 10, Step: 400 out of 600, Loss: 0.0352\n",
      "Epoch: 3 out of 10, Step: 600 out of 600, Loss: 0.0480\n",
      "Epoch: 4 out of 10, Step: 200 out of 600, Loss: 0.0478\n",
      "Epoch: 4 out of 10, Step: 400 out of 600, Loss: 0.0252\n",
      "Epoch: 4 out of 10, Step: 600 out of 600, Loss: 0.0446\n",
      "Epoch: 5 out of 10, Step: 200 out of 600, Loss: 0.0431\n",
      "Epoch: 5 out of 10, Step: 400 out of 600, Loss: 0.0518\n",
      "Epoch: 5 out of 10, Step: 600 out of 600, Loss: 0.0136\n",
      "Epoch: 6 out of 10, Step: 200 out of 600, Loss: 0.0256\n",
      "Epoch: 6 out of 10, Step: 400 out of 600, Loss: 0.0082\n",
      "Epoch: 6 out of 10, Step: 600 out of 600, Loss: 0.0241\n",
      "Epoch: 7 out of 10, Step: 200 out of 600, Loss: 0.0076\n",
      "Epoch: 7 out of 10, Step: 400 out of 600, Loss: 0.0234\n",
      "Epoch: 7 out of 10, Step: 600 out of 600, Loss: 0.0382\n",
      "Epoch: 8 out of 10, Step: 200 out of 600, Loss: 0.0097\n",
      "Epoch: 8 out of 10, Step: 400 out of 600, Loss: 0.0056\n",
      "Epoch: 8 out of 10, Step: 600 out of 600, Loss: 0.0150\n",
      "Epoch: 9 out of 10, Step: 200 out of 600, Loss: 0.0526\n",
      "Epoch: 9 out of 10, Step: 400 out of 600, Loss: 0.0412\n",
      "Epoch: 9 out of 10, Step: 600 out of 600, Loss: 0.0194\n",
      "Epoch: 10 out of 10, Step: 200 out of 600, Loss: 0.0056\n",
      "Epoch: 10 out of 10, Step: 400 out of 600, Loss: 0.0223\n",
      "Epoch: 10 out of 10, Step: 600 out of 600, Loss: 0.0157\n"
     ]
    }
   ],
   "source": [
    "train_model(train_loader, 10, model)"
   ]
  },
  {
   "cell_type": "code",
   "execution_count": 13,
   "metadata": {},
   "outputs": [
    {
     "name": "stdout",
     "output_type": "stream",
     "text": [
      "Accuracy of the model: 97.64 %\n"
     ]
    },
    {
     "data": {
      "text/plain": [
       "0.9764"
      ]
     },
     "execution_count": 13,
     "metadata": {},
     "output_type": "execute_result"
    }
   ],
   "source": [
    "test_model(model, test_loader)"
   ]
  }
 ],
 "metadata": {
  "kernelspec": {
   "display_name": "Python 3.8.10 ('pytorch-env': venv)",
   "language": "python",
   "name": "python3"
  },
  "language_info": {
   "codemirror_mode": {
    "name": "ipython",
    "version": 3
   },
   "file_extension": ".py",
   "mimetype": "text/x-python",
   "name": "python",
   "nbconvert_exporter": "python",
   "pygments_lexer": "ipython3",
   "version": "3.8.10"
  },
  "orig_nbformat": 4,
  "vscode": {
   "interpreter": {
    "hash": "56346e164ff397a22b32e73bc5497511d22b998f9a5902f8cef22b3855380367"
   }
  }
 },
 "nbformat": 4,
 "nbformat_minor": 2
}
