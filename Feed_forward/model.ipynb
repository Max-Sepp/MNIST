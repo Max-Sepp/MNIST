{
 "cells": [
  {
   "cell_type": "code",
   "execution_count": 27,
   "metadata": {},
   "outputs": [],
   "source": [
    "import torch\n",
    "import torch.nn as nn\n",
    "import torchvision\n",
    "import torchvision.transforms as transforms\n",
    "import matplotlib.pyplot as plt"
   ]
  },
  {
   "cell_type": "code",
   "execution_count": 28,
   "metadata": {},
   "outputs": [],
   "source": [
    "device = torch.device('cuda' if torch.cuda.is_available() else 'cpu')\n",
    "\n",
    "input_size = 784 # 28x28\n",
    "num_classes = 10\n",
    "batch_size = 100\n",
    "learning_rate = 0.001"
   ]
  },
  {
   "cell_type": "code",
   "execution_count": 29,
   "metadata": {},
   "outputs": [],
   "source": [
    "train_dataset = torchvision.datasets.MNIST(root='.', \n",
    "                                           train=True, \n",
    "                                           transform=transforms.ToTensor(),  \n",
    "                                           download=True)\n",
    "\n",
    "test_dataset = torchvision.datasets.MNIST(root='.', \n",
    "                                          train=False, \n",
    "                                          transform=transforms.ToTensor())\n",
    "\n",
    "# Data loader\n",
    "train_loader = torch.utils.data.DataLoader(dataset=train_dataset, \n",
    "                                           batch_size=batch_size, \n",
    "                                           shuffle=True)\n",
    "\n",
    "test_loader = torch.utils.data.DataLoader(dataset=test_dataset, \n",
    "                                          batch_size=batch_size, \n",
    "                                          shuffle=False)"
   ]
  },
  {
   "cell_type": "code",
   "execution_count": 30,
   "metadata": {},
   "outputs": [],
   "source": [
    "class FeedForwardNeuralNet(nn.Module):\n",
    "    def __init__(self, input_size, num_classes):\n",
    "        super(FeedForwardNeuralNet, self).__init__()\n",
    "        self.linear1 = nn.Linear(input_size, 600)\n",
    "        self.linear2 = nn.Linear(600, 600)\n",
    "        self.linear3 = nn.Linear(600, num_classes)\n",
    "        self.leakyRelu = nn.LeakyReLU()\n",
    "    \n",
    "    def forward(self, x):\n",
    "        x = self.linear1(x)\n",
    "        x = self.leakyRelu(x)\n",
    "        x = self.linear2(x)\n",
    "        x = self.leakyRelu(x)\n",
    "        x = self.linear3(x)\n",
    "        # no activation or softmax used \n",
    "        return x"
   ]
  },
  {
   "cell_type": "code",
   "execution_count": 31,
   "metadata": {},
   "outputs": [],
   "source": [
    "model = FeedForwardNeuralNet(input_size, num_classes).to(device)\n",
    "\n",
    "# Loss and optimizer\n",
    "criterion = nn.CrossEntropyLoss()\n",
    "optimizer = torch.optim.Adam(model.parameters(), lr=learning_rate) "
   ]
  },
  {
   "cell_type": "code",
   "execution_count": 32,
   "metadata": {},
   "outputs": [],
   "source": [
    "def test_model(model, test_loader):\n",
    "    # Test the model\n",
    "    # In test phase, we don't need to compute gradients (for memory efficiency)\n",
    "    with torch.no_grad():\n",
    "        n_correct = 0\n",
    "        n_samples = 0\n",
    "        for images, labels in test_loader:\n",
    "            images = images.reshape(-1, 28*28).to(device)\n",
    "            labels = labels.to(device)\n",
    "            results = model(images)\n",
    "            # max returns (value ,index)\n",
    "            _, predicted = torch.max(results.data, 1)\n",
    "            n_samples += labels.size(0)\n",
    "            n_correct += (predicted == labels).sum().item()\n",
    "\n",
    "        acc = n_correct / n_samples\n",
    "        print(f'Accuracy of the model: {acc * 100.0:.4f} %')\n",
    "        return acc"
   ]
  },
  {
   "cell_type": "code",
   "execution_count": 33,
   "metadata": {},
   "outputs": [],
   "source": [
    "def train_model(train_loader, num_epochs, model):\n",
    "    total_steps = len(train_loader)\n",
    "    for epoch in range(num_epochs):\n",
    "        for i, (images, labels) in enumerate(train_loader):\n",
    "            # flatten images\n",
    "            images = images.reshape(-1, 784).to(device)\n",
    "            labels = labels.to(device)\n",
    "\n",
    "            # forward pass\n",
    "            results = model(images)\n",
    "            loss = criterion(results, labels)\n",
    "\n",
    "            # backwards and optimise\n",
    "            optimizer.zero_grad()\n",
    "            loss.backward()\n",
    "            optimizer.step()\n",
    "            \n",
    "            if (i+1) % 200 == 0:\n",
    "                print(f'Epoch: {epoch+1} out of {num_epochs}, Step: {i+1} out of {total_steps}, Loss: {loss.item():.4f}')\n",
    "        acc = test_model(model, test_loader)\n",
    "        torch.save(model.state_dict(), f'./epoch:{epoch+1}acc:{acc * 100.0:.3f}.pt')\n"
   ]
  },
  {
   "cell_type": "code",
   "execution_count": 34,
   "metadata": {},
   "outputs": [
    {
     "name": "stdout",
     "output_type": "stream",
     "text": [
      "Epoch: 1 out of 20, Step: 200 out of 600, Loss: 0.1420\n",
      "Epoch: 1 out of 20, Step: 400 out of 600, Loss: 0.2769\n",
      "Epoch: 1 out of 20, Step: 600 out of 600, Loss: 0.0486\n",
      "Accuracy of the model: 96.8000 %\n",
      "Epoch: 2 out of 20, Step: 200 out of 600, Loss: 0.0623\n",
      "Epoch: 2 out of 20, Step: 400 out of 600, Loss: 0.0775\n",
      "Epoch: 2 out of 20, Step: 600 out of 600, Loss: 0.0124\n",
      "Accuracy of the model: 97.2700 %\n",
      "Epoch: 3 out of 20, Step: 200 out of 600, Loss: 0.0269\n",
      "Epoch: 3 out of 20, Step: 400 out of 600, Loss: 0.0308\n",
      "Epoch: 3 out of 20, Step: 600 out of 600, Loss: 0.0409\n",
      "Accuracy of the model: 97.8900 %\n",
      "Epoch: 4 out of 20, Step: 200 out of 600, Loss: 0.0839\n",
      "Epoch: 4 out of 20, Step: 400 out of 600, Loss: 0.0369\n",
      "Epoch: 4 out of 20, Step: 600 out of 600, Loss: 0.0738\n",
      "Accuracy of the model: 97.7000 %\n",
      "Epoch: 5 out of 20, Step: 200 out of 600, Loss: 0.0131\n",
      "Epoch: 5 out of 20, Step: 400 out of 600, Loss: 0.0309\n",
      "Epoch: 5 out of 20, Step: 600 out of 600, Loss: 0.0835\n",
      "Accuracy of the model: 97.5400 %\n",
      "Epoch: 6 out of 20, Step: 200 out of 600, Loss: 0.0369\n",
      "Epoch: 6 out of 20, Step: 400 out of 600, Loss: 0.0286\n",
      "Epoch: 6 out of 20, Step: 600 out of 600, Loss: 0.0292\n",
      "Accuracy of the model: 97.8300 %\n",
      "Epoch: 7 out of 20, Step: 200 out of 600, Loss: 0.0468\n",
      "Epoch: 7 out of 20, Step: 400 out of 600, Loss: 0.0030\n",
      "Epoch: 7 out of 20, Step: 600 out of 600, Loss: 0.0119\n",
      "Accuracy of the model: 97.9400 %\n",
      "Epoch: 8 out of 20, Step: 200 out of 600, Loss: 0.0125\n",
      "Epoch: 8 out of 20, Step: 400 out of 600, Loss: 0.0030\n",
      "Epoch: 8 out of 20, Step: 600 out of 600, Loss: 0.0012\n",
      "Accuracy of the model: 98.0200 %\n",
      "Epoch: 9 out of 20, Step: 200 out of 600, Loss: 0.0687\n",
      "Epoch: 9 out of 20, Step: 400 out of 600, Loss: 0.0226\n",
      "Epoch: 9 out of 20, Step: 600 out of 600, Loss: 0.0002\n",
      "Accuracy of the model: 98.0200 %\n",
      "Epoch: 10 out of 20, Step: 200 out of 600, Loss: 0.0075\n",
      "Epoch: 10 out of 20, Step: 400 out of 600, Loss: 0.0013\n",
      "Epoch: 10 out of 20, Step: 600 out of 600, Loss: 0.0153\n",
      "Accuracy of the model: 98.2500 %\n",
      "Epoch: 11 out of 20, Step: 200 out of 600, Loss: 0.1027\n",
      "Epoch: 11 out of 20, Step: 400 out of 600, Loss: 0.0009\n",
      "Epoch: 11 out of 20, Step: 600 out of 600, Loss: 0.0303\n",
      "Accuracy of the model: 97.6100 %\n",
      "Epoch: 12 out of 20, Step: 200 out of 600, Loss: 0.0732\n",
      "Epoch: 12 out of 20, Step: 400 out of 600, Loss: 0.0072\n",
      "Epoch: 12 out of 20, Step: 600 out of 600, Loss: 0.0116\n",
      "Accuracy of the model: 97.8900 %\n",
      "Epoch: 13 out of 20, Step: 200 out of 600, Loss: 0.0003\n",
      "Epoch: 13 out of 20, Step: 400 out of 600, Loss: 0.0149\n",
      "Epoch: 13 out of 20, Step: 600 out of 600, Loss: 0.0004\n",
      "Accuracy of the model: 98.2400 %\n",
      "Epoch: 14 out of 20, Step: 200 out of 600, Loss: 0.0525\n",
      "Epoch: 14 out of 20, Step: 400 out of 600, Loss: 0.0417\n",
      "Epoch: 14 out of 20, Step: 600 out of 600, Loss: 0.0444\n",
      "Accuracy of the model: 98.2700 %\n",
      "Epoch: 15 out of 20, Step: 200 out of 600, Loss: 0.0004\n",
      "Epoch: 15 out of 20, Step: 400 out of 600, Loss: 0.0003\n",
      "Epoch: 15 out of 20, Step: 600 out of 600, Loss: 0.0088\n",
      "Accuracy of the model: 97.9900 %\n",
      "Epoch: 16 out of 20, Step: 200 out of 600, Loss: 0.1006\n",
      "Epoch: 16 out of 20, Step: 400 out of 600, Loss: 0.0009\n",
      "Epoch: 16 out of 20, Step: 600 out of 600, Loss: 0.0076\n",
      "Accuracy of the model: 98.3600 %\n",
      "Epoch: 17 out of 20, Step: 200 out of 600, Loss: 0.0007\n",
      "Epoch: 17 out of 20, Step: 400 out of 600, Loss: 0.0018\n",
      "Epoch: 17 out of 20, Step: 600 out of 600, Loss: 0.0036\n",
      "Accuracy of the model: 98.1700 %\n",
      "Epoch: 18 out of 20, Step: 200 out of 600, Loss: 0.0001\n"
     ]
    },
    {
     "ename": "KeyboardInterrupt",
     "evalue": "",
     "output_type": "error",
     "traceback": [
      "\u001b[0;31m---------------------------------------------------------------------------\u001b[0m",
      "\u001b[0;31mKeyboardInterrupt\u001b[0m                         Traceback (most recent call last)",
      "\u001b[1;32m/home/max/documents/programming/Machine_learning/Pytorch/MNIST/model.ipynb Cell 8\u001b[0m in \u001b[0;36m<cell line: 1>\u001b[0;34m()\u001b[0m\n\u001b[0;32m----> <a href='vscode-notebook-cell://wsl%2Bubuntu/home/max/documents/programming/Machine_learning/Pytorch/MNIST/model.ipynb#ch0000010vscode-remote?line=0'>1</a>\u001b[0m train_model(train_loader, \u001b[39m20\u001b[39;49m, model)\n",
      "\u001b[1;32m/home/max/documents/programming/Machine_learning/Pytorch/MNIST/model.ipynb Cell 8\u001b[0m in \u001b[0;36mtrain_model\u001b[0;34m(train_loader, num_epochs, model)\u001b[0m\n\u001b[1;32m      <a href='vscode-notebook-cell://wsl%2Bubuntu/home/max/documents/programming/Machine_learning/Pytorch/MNIST/model.ipynb#ch0000010vscode-remote?line=2'>3</a>\u001b[0m \u001b[39mfor\u001b[39;00m epoch \u001b[39min\u001b[39;00m \u001b[39mrange\u001b[39m(num_epochs):\n\u001b[1;32m      <a href='vscode-notebook-cell://wsl%2Bubuntu/home/max/documents/programming/Machine_learning/Pytorch/MNIST/model.ipynb#ch0000010vscode-remote?line=3'>4</a>\u001b[0m     \u001b[39mfor\u001b[39;00m i, (images, labels) \u001b[39min\u001b[39;00m \u001b[39menumerate\u001b[39m(train_loader):\n\u001b[1;32m      <a href='vscode-notebook-cell://wsl%2Bubuntu/home/max/documents/programming/Machine_learning/Pytorch/MNIST/model.ipynb#ch0000010vscode-remote?line=4'>5</a>\u001b[0m         \u001b[39m# flatten images\u001b[39;00m\n\u001b[0;32m----> <a href='vscode-notebook-cell://wsl%2Bubuntu/home/max/documents/programming/Machine_learning/Pytorch/MNIST/model.ipynb#ch0000010vscode-remote?line=5'>6</a>\u001b[0m         images \u001b[39m=\u001b[39m images\u001b[39m.\u001b[39;49mreshape(\u001b[39m-\u001b[39;49m\u001b[39m1\u001b[39;49m, \u001b[39m784\u001b[39;49m)\u001b[39m.\u001b[39;49mto(device)\n\u001b[1;32m      <a href='vscode-notebook-cell://wsl%2Bubuntu/home/max/documents/programming/Machine_learning/Pytorch/MNIST/model.ipynb#ch0000010vscode-remote?line=6'>7</a>\u001b[0m         labels \u001b[39m=\u001b[39m labels\u001b[39m.\u001b[39mto(device)\n\u001b[1;32m      <a href='vscode-notebook-cell://wsl%2Bubuntu/home/max/documents/programming/Machine_learning/Pytorch/MNIST/model.ipynb#ch0000010vscode-remote?line=8'>9</a>\u001b[0m         \u001b[39m# forward pass\u001b[39;00m\n",
      "\u001b[0;31mKeyboardInterrupt\u001b[0m: "
     ]
    }
   ],
   "source": [
    "train_model(train_loader, 20, model)"
   ]
  }
 ],
 "metadata": {
  "kernelspec": {
   "display_name": "Python 3.8.10 ('pytorch-env': venv)",
   "language": "python",
   "name": "python3"
  },
  "language_info": {
   "codemirror_mode": {
    "name": "ipython",
    "version": 3
   },
   "file_extension": ".py",
   "mimetype": "text/x-python",
   "name": "python",
   "nbconvert_exporter": "python",
   "pygments_lexer": "ipython3",
   "version": "3.8.10"
  },
  "orig_nbformat": 4,
  "vscode": {
   "interpreter": {
    "hash": "56346e164ff397a22b32e73bc5497511d22b998f9a5902f8cef22b3855380367"
   }
  }
 },
 "nbformat": 4,
 "nbformat_minor": 2
}
