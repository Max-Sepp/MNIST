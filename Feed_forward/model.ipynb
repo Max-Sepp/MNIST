{
 "cells": [
  {
   "cell_type": "code",
   "execution_count": 35,
   "metadata": {},
   "outputs": [],
   "source": [
    "import torch\n",
    "import torch.nn as nn\n",
    "import torchvision\n",
    "import torchvision.transforms as transforms\n",
    "import matplotlib.pyplot as plt"
   ]
  },
  {
   "cell_type": "code",
   "execution_count": 36,
   "metadata": {},
   "outputs": [],
   "source": [
    "device = torch.device('cuda' if torch.cuda.is_available() else 'cpu')\n",
    "\n",
    "input_size = 784 # 28x28\n",
    "num_classes = 10\n",
    "batch_size = 100\n",
    "learning_rate = 0.001"
   ]
  },
  {
   "cell_type": "code",
   "execution_count": 37,
   "metadata": {},
   "outputs": [],
   "source": [
    "train_dataset = torchvision.datasets.MNIST(root='.', \n",
    "                                           train=True, \n",
    "                                           transform=transforms.ToTensor(),  \n",
    "                                           download=True)\n",
    "\n",
    "test_dataset = torchvision.datasets.MNIST(root='.', \n",
    "                                          train=False, \n",
    "                                          transform=transforms.ToTensor())\n",
    "\n",
    "# Data loader\n",
    "train_loader = torch.utils.data.DataLoader(dataset=train_dataset, \n",
    "                                           batch_size=batch_size, \n",
    "                                           shuffle=True)\n",
    "\n",
    "test_loader = torch.utils.data.DataLoader(dataset=test_dataset, \n",
    "                                          batch_size=batch_size, \n",
    "                                          shuffle=False)"
   ]
  },
  {
   "cell_type": "code",
   "execution_count": 38,
   "metadata": {},
   "outputs": [],
   "source": [
    "class FeedForwardNeuralNet(nn.Module):\n",
    "    def __init__(self, input_size, num_classes):\n",
    "        super(FeedForwardNeuralNet, self).__init__()\n",
    "        self.linear1 = nn.Linear(input_size, 600)\n",
    "        self.linear2 = nn.Linear(600, 600)\n",
    "        self.linear3 = nn.Linear(600, num_classes)\n",
    "        self.leakyRelu = nn.LeakyReLU()\n",
    "    \n",
    "    def forward(self, x):\n",
    "        x = self.linear1(x)\n",
    "        x = self.leakyRelu(x)\n",
    "        x = self.linear2(x)\n",
    "        x = self.leakyRelu(x)\n",
    "        x = self.linear3(x)\n",
    "        # no activation or softmax used \n",
    "        return x"
   ]
  },
  {
   "cell_type": "code",
   "execution_count": 39,
   "metadata": {},
   "outputs": [],
   "source": [
    "model = FeedForwardNeuralNet(input_size, num_classes).to(device)\n",
    "\n",
    "# Loss and optimizer\n",
    "criterion = nn.CrossEntropyLoss()\n",
    "optimizer = torch.optim.Adam(model.parameters(), lr=learning_rate) "
   ]
  },
  {
   "cell_type": "code",
   "execution_count": 40,
   "metadata": {},
   "outputs": [],
   "source": [
    "def test_model(model, test_loader):\n",
    "    # Test the model\n",
    "    # In test phase, we don't need to compute gradients (for memory efficiency)\n",
    "    with torch.no_grad():\n",
    "        n_correct = 0\n",
    "        n_samples = 0\n",
    "        for images, labels in test_loader:\n",
    "            images = images.reshape(-1, 28*28).to(device)\n",
    "            labels = labels.to(device)\n",
    "            results = model(images)\n",
    "            # max returns (value ,index)\n",
    "            _, predicted = torch.max(results.data, 1)\n",
    "            n_samples += labels.size(0)\n",
    "            n_correct += (predicted == labels).sum().item()\n",
    "\n",
    "        acc = n_correct / n_samples\n",
    "        print(f'Accuracy of the model: {acc * 100.0:.4f} %')\n",
    "        return acc"
   ]
  },
  {
   "cell_type": "code",
   "execution_count": 41,
   "metadata": {},
   "outputs": [],
   "source": [
    "def train_model(train_loader, num_epochs, model):\n",
    "    total_steps = len(train_loader)\n",
    "    for epoch in range(num_epochs):\n",
    "        for i, (images, labels) in enumerate(train_loader):\n",
    "            # flatten images\n",
    "            images = images.reshape(-1, 784).to(device)\n",
    "            labels = labels.to(device)\n",
    "\n",
    "            # forward pass\n",
    "            results = model(images)\n",
    "            loss = criterion(results, labels)\n",
    "\n",
    "            # backwards and optimise\n",
    "            optimizer.zero_grad()\n",
    "            loss.backward()\n",
    "            optimizer.step()\n",
    "            \n",
    "            if (i+1) % 200 == 0:\n",
    "                print(f'Epoch: {epoch+1} out of {num_epochs}, Step: {i+1} out of {total_steps}, Loss: {loss.item():.4f}')\n",
    "        acc = test_model(model, test_loader)\n",
    "        torch.save(model.state_dict(), f'./epoch:{epoch+1}acc:{acc * 100.0:.3f}.pt')\n"
   ]
  },
  {
   "cell_type": "code",
   "execution_count": 42,
   "metadata": {},
   "outputs": [
    {
     "name": "stdout",
     "output_type": "stream",
     "text": [
      "Epoch: 1 out of 20, Step: 200 out of 600, Loss: 0.2089\n",
      "Epoch: 1 out of 20, Step: 400 out of 600, Loss: 0.1262\n",
      "Epoch: 1 out of 20, Step: 600 out of 600, Loss: 0.0723\n",
      "Accuracy of the model: 96.7700 %\n",
      "Epoch: 2 out of 20, Step: 200 out of 600, Loss: 0.2343\n",
      "Epoch: 2 out of 20, Step: 400 out of 600, Loss: 0.1108\n",
      "Epoch: 2 out of 20, Step: 600 out of 600, Loss: 0.0154\n",
      "Accuracy of the model: 97.7100 %\n",
      "Epoch: 3 out of 20, Step: 200 out of 600, Loss: 0.0332\n",
      "Epoch: 3 out of 20, Step: 400 out of 600, Loss: 0.0428\n",
      "Epoch: 3 out of 20, Step: 600 out of 600, Loss: 0.0079\n",
      "Accuracy of the model: 97.6500 %\n",
      "Epoch: 4 out of 20, Step: 200 out of 600, Loss: 0.0427\n",
      "Epoch: 4 out of 20, Step: 400 out of 600, Loss: 0.1241\n",
      "Epoch: 4 out of 20, Step: 600 out of 600, Loss: 0.0668\n",
      "Accuracy of the model: 98.1000 %\n",
      "Epoch: 5 out of 20, Step: 200 out of 600, Loss: 0.0076\n",
      "Epoch: 5 out of 20, Step: 400 out of 600, Loss: 0.0469\n",
      "Epoch: 5 out of 20, Step: 600 out of 600, Loss: 0.0406\n",
      "Accuracy of the model: 98.0700 %\n",
      "Epoch: 6 out of 20, Step: 200 out of 600, Loss: 0.0164\n",
      "Epoch: 6 out of 20, Step: 400 out of 600, Loss: 0.0106\n",
      "Epoch: 6 out of 20, Step: 600 out of 600, Loss: 0.0124\n",
      "Accuracy of the model: 97.9600 %\n",
      "Epoch: 7 out of 20, Step: 200 out of 600, Loss: 0.0553\n",
      "Epoch: 7 out of 20, Step: 400 out of 600, Loss: 0.0123\n",
      "Epoch: 7 out of 20, Step: 600 out of 600, Loss: 0.0415\n",
      "Accuracy of the model: 98.0600 %\n",
      "Epoch: 8 out of 20, Step: 200 out of 600, Loss: 0.0215\n",
      "Epoch: 8 out of 20, Step: 400 out of 600, Loss: 0.0159\n",
      "Epoch: 8 out of 20, Step: 600 out of 600, Loss: 0.0658\n",
      "Accuracy of the model: 98.2000 %\n",
      "Epoch: 9 out of 20, Step: 200 out of 600, Loss: 0.0023\n",
      "Epoch: 9 out of 20, Step: 400 out of 600, Loss: 0.0043\n",
      "Epoch: 9 out of 20, Step: 600 out of 600, Loss: 0.0040\n",
      "Accuracy of the model: 96.8400 %\n",
      "Epoch: 10 out of 20, Step: 200 out of 600, Loss: 0.0289\n",
      "Epoch: 10 out of 20, Step: 400 out of 600, Loss: 0.0212\n",
      "Epoch: 10 out of 20, Step: 600 out of 600, Loss: 0.0001\n",
      "Accuracy of the model: 98.2400 %\n",
      "Epoch: 11 out of 20, Step: 200 out of 600, Loss: 0.0416\n",
      "Epoch: 11 out of 20, Step: 400 out of 600, Loss: 0.0010\n",
      "Epoch: 11 out of 20, Step: 600 out of 600, Loss: 0.0495\n",
      "Accuracy of the model: 97.9000 %\n",
      "Epoch: 12 out of 20, Step: 200 out of 600, Loss: 0.0003\n",
      "Epoch: 12 out of 20, Step: 400 out of 600, Loss: 0.0021\n",
      "Epoch: 12 out of 20, Step: 600 out of 600, Loss: 0.0001\n",
      "Accuracy of the model: 98.2300 %\n",
      "Epoch: 13 out of 20, Step: 200 out of 600, Loss: 0.0140\n",
      "Epoch: 13 out of 20, Step: 400 out of 600, Loss: 0.0135\n",
      "Epoch: 13 out of 20, Step: 600 out of 600, Loss: 0.0483\n",
      "Accuracy of the model: 98.0300 %\n",
      "Epoch: 14 out of 20, Step: 200 out of 600, Loss: 0.0004\n",
      "Epoch: 14 out of 20, Step: 400 out of 600, Loss: 0.0001\n",
      "Epoch: 14 out of 20, Step: 600 out of 600, Loss: 0.0002\n",
      "Accuracy of the model: 97.7700 %\n",
      "Epoch: 15 out of 20, Step: 200 out of 600, Loss: 0.0023\n",
      "Epoch: 15 out of 20, Step: 400 out of 600, Loss: 0.0008\n",
      "Epoch: 15 out of 20, Step: 600 out of 600, Loss: 0.0138\n",
      "Accuracy of the model: 98.0200 %\n",
      "Epoch: 16 out of 20, Step: 200 out of 600, Loss: 0.0186\n",
      "Epoch: 16 out of 20, Step: 400 out of 600, Loss: 0.0003\n",
      "Epoch: 16 out of 20, Step: 600 out of 600, Loss: 0.0203\n",
      "Accuracy of the model: 97.8800 %\n",
      "Epoch: 17 out of 20, Step: 200 out of 600, Loss: 0.0029\n",
      "Epoch: 17 out of 20, Step: 400 out of 600, Loss: 0.0132\n",
      "Epoch: 17 out of 20, Step: 600 out of 600, Loss: 0.0008\n",
      "Accuracy of the model: 98.3100 %\n",
      "Epoch: 18 out of 20, Step: 200 out of 600, Loss: 0.0007\n",
      "Epoch: 18 out of 20, Step: 400 out of 600, Loss: 0.0007\n",
      "Epoch: 18 out of 20, Step: 600 out of 600, Loss: 0.0032\n",
      "Accuracy of the model: 98.2100 %\n",
      "Epoch: 19 out of 20, Step: 200 out of 600, Loss: 0.0079\n",
      "Epoch: 19 out of 20, Step: 400 out of 600, Loss: 0.0002\n",
      "Epoch: 19 out of 20, Step: 600 out of 600, Loss: 0.0150\n",
      "Accuracy of the model: 98.1800 %\n",
      "Epoch: 20 out of 20, Step: 200 out of 600, Loss: 0.0359\n",
      "Epoch: 20 out of 20, Step: 400 out of 600, Loss: 0.0539\n",
      "Epoch: 20 out of 20, Step: 600 out of 600, Loss: 0.0002\n",
      "Accuracy of the model: 98.2600 %\n"
     ]
    }
   ],
   "source": [
    "train_model(train_loader, 20, model)"
   ]
  }
 ],
 "metadata": {
  "kernelspec": {
   "display_name": "Python 3.8.10 ('pytorch-env': venv)",
   "language": "python",
   "name": "python3"
  },
  "language_info": {
   "codemirror_mode": {
    "name": "ipython",
    "version": 3
   },
   "file_extension": ".py",
   "mimetype": "text/x-python",
   "name": "python",
   "nbconvert_exporter": "python",
   "pygments_lexer": "ipython3",
   "version": "3.8.10"
  },
  "orig_nbformat": 4,
  "vscode": {
   "interpreter": {
    "hash": "56346e164ff397a22b32e73bc5497511d22b998f9a5902f8cef22b3855380367"
   }
  }
 },
 "nbformat": 4,
 "nbformat_minor": 2
}
